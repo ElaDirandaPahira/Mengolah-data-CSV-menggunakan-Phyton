{
 "cells": [
  {
   "cell_type": "markdown",
   "id": "84a7ad9e",
   "metadata": {},
   "source": [
    "Tugas Besar 1 Pemograman Phyton\n",
    "===========\n"
   ]
  },
  {
   "cell_type": "markdown",
   "id": "213dcd03",
   "metadata": {},
   "source": []
  },
  {
   "cell_type": "markdown",
   "id": "4f1f68f8",
   "metadata": {},
   "source": [
    "Membuka dan menampilkan file csv menggunakan import csv\n",
    "-------------"
   ]
  },
  {
   "cell_type": "code",
   "execution_count": 1,
   "id": "23700779",
   "metadata": {},
   "outputs": [
    {
     "name": "stdout",
     "output_type": "stream",
     "text": [
      "['NIM', 'Tugas1', 'Tugas2', 'Quiz2', 'Quiz2', 'UTS', 'UAS']\n",
      "['111010738', '80', '19', '92', '34', '46', '79']\n",
      "['111010130', '84', '57', '28', '52', '83', '23']\n",
      "['111010072', '42', '57', '25', '62', '70', '3']\n",
      "['111010311', '38', '8', '57', '31', '86', '54']\n",
      "['111010631', '92', '49', '69', '95', '3', '79']\n",
      "['111010398', '18', '57', '72', '15', '97', '80']\n",
      "['111010196', '8', '21', '27', '92', '21', '9']\n",
      "['111010951', '62', '78', '98', '25', '23', '30']\n",
      "['111010944', '58', '49', '38', '95', '28', '71']\n",
      "['111010108', '8', '21', '85', '43', '42', '61']\n",
      "['111010631', '84', '39', '48', '66', '6', '35']\n",
      "['111010456', '68', '77', '36', '76', '72', '45']\n",
      "['111010721', '66', '95', '36', '26', '74', '2']\n",
      "['111010691', '92', '71', '72', '31', '10', '82']\n",
      "['111010910', '68', '90', '46', '58', '18', '7']\n",
      "['111010994', '56', '73', '1', '57', '83', '34']\n",
      "['111010860', '76', '33', '34', '16', '9', '55']\n",
      "['111010261', '18', '17', '1', '75', '7', '11']\n",
      "['111010103', '68', '51', '40', '74', '65', '22']\n",
      "['111010154', '72', '33', '74', '72', '10', '28']\n",
      "['111010077', '54', '91', '16', '64', '64', '54']\n",
      "['111010630', '46', '4', '5', '59', '42', '79']\n",
      "['111010209', '68', '61', '31', '77', '23', '19']\n",
      "['111010639', '92', '95', '88', '68', '97', '59']\n",
      "['111010940', '84', '14', '85', '44', '17', '4']\n",
      "['111010265', '84', '73', '60', '83', '0', '68']\n",
      "['111010676', '68', '26', '10', '50', '31', '2']\n",
      "['111010089', '65', '38', '99', '37', '62', '20']\n",
      "['111010050', '77', '5', '99', '53', '82', '18']\n",
      "['111010462', '55', '70', '94', '10', '1', '67']\n",
      "['111010492', '61', '16', '88', '66', '63', '60']\n",
      "['111010883', '1', '23', '18', '6', '60', '45']\n",
      "['111010196', '52', '81', '80', '42', '95', '49']\n",
      "['111010552', '48', '10', '57', '31', '77', '85']\n",
      "['111010503', '74', '58', '80', '86', '17', '12']\n",
      "['111010540', '81', '29', '72', '60', '76', '27']\n",
      "['111010001', '76', '45', '85', '18', '32', '93']\n",
      "['111010870', '73', '38', '1', '35', '68', '60']\n",
      "['111010199', '41', '77', '29', '61', '74', '65']\n",
      "['111010468', '66', '52', '74', '41', '40', '4']\n"
     ]
    }
   ],
   "source": [
    "import csv\n",
    "csv_file = 'dataset3.csv'\n",
    "with open(csv_file,'r') as data:\n",
    "    for line in csv.reader(data):\n",
    "        print(line)"
   ]
  },
  {
   "cell_type": "markdown",
   "id": "62470d5b",
   "metadata": {},
   "source": [
    "Memasukkan data ke dalam list\n",
    "----------"
   ]
  },
  {
   "cell_type": "code",
   "execution_count": 2,
   "id": "32647e9f",
   "metadata": {},
   "outputs": [
    {
     "data": {
      "text/plain": [
       "41"
      ]
     },
     "execution_count": 2,
     "metadata": {},
     "output_type": "execute_result"
    }
   ],
   "source": [
    "lst = []\n",
    "with open(csv_file,'r') as data:\n",
    "    for line in csv.reader(data):\n",
    "        lst.append(line)\n",
    "lst[0][3] = 'Quiz1'  #Mengganti nama variabel di baris 0 kolom 3 dengan nama Quiz1\n",
    "len(lst)"
   ]
  },
  {
   "cell_type": "markdown",
   "id": "d6be5efd",
   "metadata": {},
   "source": [
    "Mengecek NIM yang sama\n",
    "-------"
   ]
  },
  {
   "cell_type": "code",
   "execution_count": 3,
   "id": "9a90a05d",
   "metadata": {},
   "outputs": [
    {
     "name": "stdout",
     "output_type": "stream",
     "text": [
      "NIM yang sama ada di baris dan kolom 5 0\n",
      "NIM yang sama ada di baris dan kolom 11 0\n"
     ]
    }
   ],
   "source": [
    "rows = []\n",
    "for i in range(len(lst)): \n",
    "    for j in range(len(lst[0])): \n",
    "        if lst[i][j]=='111010631': \n",
    "            print('NIM yang sama ada di baris dan kolom',i,j)\n",
    "            rows.append(i)"
   ]
  },
  {
   "cell_type": "markdown",
   "id": "b7b31a85",
   "metadata": {},
   "source": [
    "Menghapus salah satu baris dari NIM yang sama\n",
    "-----------"
   ]
  },
  {
   "cell_type": "code",
   "execution_count": 4,
   "id": "0023d8dd",
   "metadata": {},
   "outputs": [
    {
     "name": "stdout",
     "output_type": "stream",
     "text": [
      "Data double sudah terhapus\n",
      "Banyak data yaitu :  40\n"
     ]
    }
   ],
   "source": [
    "rows\n",
    "len_rows = int((len(rows))/2)\n",
    "counter = 0\n",
    "for i in range(len_rows):\n",
    "    lst.pop((rows[i]))\n",
    "    counter = counter+1 #perulangan hanya dilakukan sekali\n",
    "    if counter == 1:\n",
    "        break\n",
    "        \n",
    "print('Data double sudah terhapus')\n",
    "print('Banyak data yaitu : ',len(lst))"
   ]
  },
  {
   "cell_type": "markdown",
   "id": "5bb1f142",
   "metadata": {},
   "source": [
    "Mengecek NIM yang sama\n",
    "-------"
   ]
  },
  {
   "cell_type": "code",
   "execution_count": 5,
   "id": "3ce9e9af",
   "metadata": {},
   "outputs": [
    {
     "name": "stdout",
     "output_type": "stream",
     "text": [
      "NIM yang sama ada di baris dan kolom 6 0\n",
      "NIM yang sama ada di baris dan kolom 32 0\n"
     ]
    }
   ],
   "source": [
    "rows = []\n",
    "for i in range(len(lst)): \n",
    "    for j in range(len(lst[0])): \n",
    "        if lst[i][j]=='111010196': \n",
    "            print('NIM yang sama ada di baris dan kolom',i,j)\n",
    "            rows.append(i)"
   ]
  },
  {
   "cell_type": "markdown",
   "id": "a71adb38",
   "metadata": {},
   "source": [
    "Menghapus salah satu baris dari NIM yang sama\n",
    "-----------"
   ]
  },
  {
   "cell_type": "code",
   "execution_count": 6,
   "id": "a9780054",
   "metadata": {},
   "outputs": [
    {
     "name": "stdout",
     "output_type": "stream",
     "text": [
      "Data double sudah terhapus\n",
      "Banyak data yaitu :  39\n"
     ]
    }
   ],
   "source": [
    "rows\n",
    "len_rows = int((len(rows))/2)\n",
    "counter = 0\n",
    "for i in range(len_rows):\n",
    "    lst.pop((rows[i]))\n",
    "    counter = counter+1 #perulangan hanya dilakukan sekali\n",
    "    if counter == 1:\n",
    "        break\n",
    "        \n",
    "print('Data double sudah terhapus')\n",
    "print('Banyak data yaitu : ',len(lst))"
   ]
  },
  {
   "cell_type": "markdown",
   "id": "42e5cb4c",
   "metadata": {},
   "source": [
    "Mengecek NIM/nilai yang berisi huruf\n",
    "----------"
   ]
  },
  {
   "cell_type": "code",
   "execution_count": 7,
   "id": "ce991433",
   "metadata": {},
   "outputs": [
    {
     "name": "stdout",
     "output_type": "stream",
     "text": [
      "Semua NIM sudah bernilai angka dan tidak ada NIM yang berisi huruf\n"
     ]
    }
   ],
   "source": [
    "for i in range(1,len(lst)):\n",
    "    for j in range(len(lst[0])):\n",
    "        lst[i][j] = int(lst[i][j])\n",
    "        \n",
    "print('Semua NIM sudah bernilai angka dan tidak ada NIM yang berisi huruf')"
   ]
  },
  {
   "cell_type": "code",
   "execution_count": 8,
   "id": "109aac1b",
   "metadata": {},
   "outputs": [
    {
     "data": {
      "text/plain": [
       "[['NIM', 'Tugas1', 'Tugas2', 'Quiz1', 'Quiz2', 'UTS', 'UAS'],\n",
       " [111010738, 80, 19, 92, 34, 46, 79],\n",
       " [111010130, 84, 57, 28, 52, 83, 23],\n",
       " [111010072, 42, 57, 25, 62, 70, 3],\n",
       " [111010311, 38, 8, 57, 31, 86, 54],\n",
       " [111010398, 18, 57, 72, 15, 97, 80],\n",
       " [111010951, 62, 78, 98, 25, 23, 30],\n",
       " [111010944, 58, 49, 38, 95, 28, 71],\n",
       " [111010108, 8, 21, 85, 43, 42, 61],\n",
       " [111010631, 84, 39, 48, 66, 6, 35],\n",
       " [111010456, 68, 77, 36, 76, 72, 45],\n",
       " [111010721, 66, 95, 36, 26, 74, 2],\n",
       " [111010691, 92, 71, 72, 31, 10, 82],\n",
       " [111010910, 68, 90, 46, 58, 18, 7],\n",
       " [111010994, 56, 73, 1, 57, 83, 34],\n",
       " [111010860, 76, 33, 34, 16, 9, 55],\n",
       " [111010261, 18, 17, 1, 75, 7, 11],\n",
       " [111010103, 68, 51, 40, 74, 65, 22],\n",
       " [111010154, 72, 33, 74, 72, 10, 28],\n",
       " [111010077, 54, 91, 16, 64, 64, 54],\n",
       " [111010630, 46, 4, 5, 59, 42, 79],\n",
       " [111010209, 68, 61, 31, 77, 23, 19],\n",
       " [111010639, 92, 95, 88, 68, 97, 59],\n",
       " [111010940, 84, 14, 85, 44, 17, 4],\n",
       " [111010265, 84, 73, 60, 83, 0, 68],\n",
       " [111010676, 68, 26, 10, 50, 31, 2],\n",
       " [111010089, 65, 38, 99, 37, 62, 20],\n",
       " [111010050, 77, 5, 99, 53, 82, 18],\n",
       " [111010462, 55, 70, 94, 10, 1, 67],\n",
       " [111010492, 61, 16, 88, 66, 63, 60],\n",
       " [111010883, 1, 23, 18, 6, 60, 45],\n",
       " [111010196, 52, 81, 80, 42, 95, 49],\n",
       " [111010552, 48, 10, 57, 31, 77, 85],\n",
       " [111010503, 74, 58, 80, 86, 17, 12],\n",
       " [111010540, 81, 29, 72, 60, 76, 27],\n",
       " [111010001, 76, 45, 85, 18, 32, 93],\n",
       " [111010870, 73, 38, 1, 35, 68, 60],\n",
       " [111010199, 41, 77, 29, 61, 74, 65],\n",
       " [111010468, 66, 52, 74, 41, 40, 4]]"
      ]
     },
     "execution_count": 8,
     "metadata": {},
     "output_type": "execute_result"
    }
   ],
   "source": [
    "lst"
   ]
  },
  {
   "cell_type": "markdown",
   "id": "7332012f",
   "metadata": {},
   "source": [
    "Mengelompokkan masing-masing nilai di dalam data menjadi satu kelompok\n",
    "------------"
   ]
  },
  {
   "cell_type": "code",
   "execution_count": 9,
   "id": "0609e361",
   "metadata": {},
   "outputs": [],
   "source": [
    "nilai=[]\n",
    "\n",
    "kolom=1\n",
    "while kolom<7:\n",
    "    for i in range(1,39):\n",
    "        nilai.append(lst[i][kolom])\n",
    "        if len(nilai)==38*kolom:\n",
    "            kolom=kolom+1\n",
    "            \n",
    "kelompok = [nilai[i:i+38] for i in range(0, len(nilai), 38)]"
   ]
  },
  {
   "cell_type": "code",
   "execution_count": 10,
   "id": "ffa02257",
   "metadata": {},
   "outputs": [
    {
     "data": {
      "text/plain": [
       "[[80,\n",
       "  84,\n",
       "  42,\n",
       "  38,\n",
       "  18,\n",
       "  62,\n",
       "  58,\n",
       "  8,\n",
       "  84,\n",
       "  68,\n",
       "  66,\n",
       "  92,\n",
       "  68,\n",
       "  56,\n",
       "  76,\n",
       "  18,\n",
       "  68,\n",
       "  72,\n",
       "  54,\n",
       "  46,\n",
       "  68,\n",
       "  92,\n",
       "  84,\n",
       "  84,\n",
       "  68,\n",
       "  65,\n",
       "  77,\n",
       "  55,\n",
       "  61,\n",
       "  1,\n",
       "  52,\n",
       "  48,\n",
       "  74,\n",
       "  81,\n",
       "  76,\n",
       "  73,\n",
       "  41,\n",
       "  66],\n",
       " [19,\n",
       "  57,\n",
       "  57,\n",
       "  8,\n",
       "  57,\n",
       "  78,\n",
       "  49,\n",
       "  21,\n",
       "  39,\n",
       "  77,\n",
       "  95,\n",
       "  71,\n",
       "  90,\n",
       "  73,\n",
       "  33,\n",
       "  17,\n",
       "  51,\n",
       "  33,\n",
       "  91,\n",
       "  4,\n",
       "  61,\n",
       "  95,\n",
       "  14,\n",
       "  73,\n",
       "  26,\n",
       "  38,\n",
       "  5,\n",
       "  70,\n",
       "  16,\n",
       "  23,\n",
       "  81,\n",
       "  10,\n",
       "  58,\n",
       "  29,\n",
       "  45,\n",
       "  38,\n",
       "  77,\n",
       "  52],\n",
       " [92,\n",
       "  28,\n",
       "  25,\n",
       "  57,\n",
       "  72,\n",
       "  98,\n",
       "  38,\n",
       "  85,\n",
       "  48,\n",
       "  36,\n",
       "  36,\n",
       "  72,\n",
       "  46,\n",
       "  1,\n",
       "  34,\n",
       "  1,\n",
       "  40,\n",
       "  74,\n",
       "  16,\n",
       "  5,\n",
       "  31,\n",
       "  88,\n",
       "  85,\n",
       "  60,\n",
       "  10,\n",
       "  99,\n",
       "  99,\n",
       "  94,\n",
       "  88,\n",
       "  18,\n",
       "  80,\n",
       "  57,\n",
       "  80,\n",
       "  72,\n",
       "  85,\n",
       "  1,\n",
       "  29,\n",
       "  74],\n",
       " [34,\n",
       "  52,\n",
       "  62,\n",
       "  31,\n",
       "  15,\n",
       "  25,\n",
       "  95,\n",
       "  43,\n",
       "  66,\n",
       "  76,\n",
       "  26,\n",
       "  31,\n",
       "  58,\n",
       "  57,\n",
       "  16,\n",
       "  75,\n",
       "  74,\n",
       "  72,\n",
       "  64,\n",
       "  59,\n",
       "  77,\n",
       "  68,\n",
       "  44,\n",
       "  83,\n",
       "  50,\n",
       "  37,\n",
       "  53,\n",
       "  10,\n",
       "  66,\n",
       "  6,\n",
       "  42,\n",
       "  31,\n",
       "  86,\n",
       "  60,\n",
       "  18,\n",
       "  35,\n",
       "  61,\n",
       "  41],\n",
       " [46,\n",
       "  83,\n",
       "  70,\n",
       "  86,\n",
       "  97,\n",
       "  23,\n",
       "  28,\n",
       "  42,\n",
       "  6,\n",
       "  72,\n",
       "  74,\n",
       "  10,\n",
       "  18,\n",
       "  83,\n",
       "  9,\n",
       "  7,\n",
       "  65,\n",
       "  10,\n",
       "  64,\n",
       "  42,\n",
       "  23,\n",
       "  97,\n",
       "  17,\n",
       "  0,\n",
       "  31,\n",
       "  62,\n",
       "  82,\n",
       "  1,\n",
       "  63,\n",
       "  60,\n",
       "  95,\n",
       "  77,\n",
       "  17,\n",
       "  76,\n",
       "  32,\n",
       "  68,\n",
       "  74,\n",
       "  40],\n",
       " [79,\n",
       "  23,\n",
       "  3,\n",
       "  54,\n",
       "  80,\n",
       "  30,\n",
       "  71,\n",
       "  61,\n",
       "  35,\n",
       "  45,\n",
       "  2,\n",
       "  82,\n",
       "  7,\n",
       "  34,\n",
       "  55,\n",
       "  11,\n",
       "  22,\n",
       "  28,\n",
       "  54,\n",
       "  79,\n",
       "  19,\n",
       "  59,\n",
       "  4,\n",
       "  68,\n",
       "  2,\n",
       "  20,\n",
       "  18,\n",
       "  67,\n",
       "  60,\n",
       "  45,\n",
       "  49,\n",
       "  85,\n",
       "  12,\n",
       "  27,\n",
       "  93,\n",
       "  60,\n",
       "  65,\n",
       "  4]]"
      ]
     },
     "execution_count": 10,
     "metadata": {},
     "output_type": "execute_result"
    }
   ],
   "source": [
    "kelompok"
   ]
  },
  {
   "cell_type": "markdown",
   "id": "ff0b762b",
   "metadata": {},
   "source": [
    "Mencari nilai mean, max, min, median, dan standar deviasi\n",
    "----------"
   ]
  },
  {
   "cell_type": "code",
   "execution_count": 11,
   "id": "91b58994",
   "metadata": {},
   "outputs": [],
   "source": [
    "statistik = [['Jenis_Nilai','Mean', 'Max', 'Median', 'Min','Std Dev']]\n",
    "jenis = [['Tugas1', 'Tugas2', 'Quiz1', 'Quiz2', 'UTS', 'UAS']]\n",
    "\n",
    "x = 0\n",
    "for i in range(len(jenis)):\n",
    "    for j in range(len(jenis[0])):\n",
    "            statistik.append([jenis[i][j], sum(kelompok[j]) / len(kelompok[j]), max(kelompok[j]),\n",
    "                         int((kelompok[j][len(kelompok[j]) // 2] + kelompok[j][~ len(kelompok[j]) // 2]) / 2),\n",
    "                         min(kelompok[j]), (sum([((x - (sum(kelompok[j]) / len(kelompok[j]))) ** 2) \n",
    "                                                  for x in kelompok[j]]) / len(kelompok[j])) ** 0.5]) "
   ]
  },
  {
   "cell_type": "code",
   "execution_count": 12,
   "id": "d99e762e",
   "metadata": {},
   "outputs": [
    {
     "data": {
      "text/plain": [
       "[['Jenis_Nilai', 'Mean', 'Max', 'Median', 'Min', 'Std Dev'],\n",
       " ['Tugas1', 61.1578947368421, 92, 50, 1, 21.90953447317001],\n",
       " ['Tugas2', 48.18421052631579, 95, 47, 4, 27.26657416108585],\n",
       " ['Quiz1', 54.05263157894737, 99, 10, 1, 31.278837110249622],\n",
       " ['Quiz2', 49.973684210526315, 95, 61, 6, 22.483311755149067],\n",
       " ['UTS', 48.68421052631579, 97, 53, 0, 30.398325147039802],\n",
       " ['UAS', 42.421052631578945, 93, 66, 2, 27.35789271177166]]"
      ]
     },
     "execution_count": 12,
     "metadata": {},
     "output_type": "execute_result"
    }
   ],
   "source": [
    "statistik"
   ]
  },
  {
   "cell_type": "markdown",
   "id": "a6560442",
   "metadata": {},
   "source": [
    "Mencari nilai UTS tertinggi\n",
    "---------------"
   ]
  },
  {
   "cell_type": "code",
   "execution_count": 13,
   "id": "4df27e4e",
   "metadata": {},
   "outputs": [
    {
     "name": "stdout",
     "output_type": "stream",
     "text": [
      "Nilai UTS tertinggi adalah :  97\n",
      "Yang didapat oleh NIM : \n",
      "111010738\n",
      "111010130\n",
      "111010311\n",
      "111010398\n",
      "111010639\n"
     ]
    }
   ],
   "source": [
    "jumlah = []\n",
    "a = 0\n",
    "for i in range(1,len(lst)):\n",
    "    if lst[i][5] > a:\n",
    "        a = lst[i][5]\n",
    "        jumlah.append(str(lst[i][0]))\n",
    "    elif lst[i][5] == a:\n",
    "        jumlah.append(str(lst[i][0]))\n",
    "\n",
    "print('Nilai UTS tertinggi adalah : ',a)\n",
    "print('Yang didapat oleh NIM : ')\n",
    "for i in range(len(jumlah)):\n",
    "    print(jumlah[i])"
   ]
  },
  {
   "cell_type": "markdown",
   "id": "316fd613",
   "metadata": {},
   "source": [
    "Mencari nilai UAS terendah\n",
    "-----------"
   ]
  },
  {
   "cell_type": "code",
   "execution_count": 14,
   "id": "d48fc82b",
   "metadata": {},
   "outputs": [
    {
     "name": "stdout",
     "output_type": "stream",
     "text": [
      "Nilai UAS terendah adalah :  2\n",
      "Yang didapat oleh NIM : \n",
      "111010738\n",
      "111010130\n",
      "111010072\n",
      "111010721\n",
      "111010676\n"
     ]
    }
   ],
   "source": [
    "jumlah = []\n",
    "a = 100\n",
    "for i in range(1,len(lst)):\n",
    "    if lst[i][6] < a:\n",
    "        a = lst[i][6]\n",
    "        jumlah.append(str(lst[i][0]))\n",
    "    elif lst[i][6] == a:\n",
    "        jumlah.append(str(lst[i][0]))\n",
    "\n",
    "print('Nilai UAS terendah adalah : ',a)\n",
    "print('Yang didapat oleh NIM : ')\n",
    "for i in range(len(jumlah)):\n",
    "    print(jumlah[i])"
   ]
  },
  {
   "cell_type": "markdown",
   "id": "18ab4d5e",
   "metadata": {},
   "source": [
    "Mencari NIM dengan nilai quiz 1 di atas rata-rata\n",
    "----------"
   ]
  },
  {
   "cell_type": "code",
   "execution_count": 15,
   "id": "c71aa97d",
   "metadata": {},
   "outputs": [
    {
     "name": "stdout",
     "output_type": "stream",
     "text": [
      "Nilai Rata-Rata QuiZ 1 Adalah 54.05263157894737\n",
      "NIM yang mendapatkan nilai quiz 1 di atas rata-rata adalah: \n",
      "111010738\n",
      "111010311\n",
      "111010398\n",
      "111010951\n",
      "111010108\n",
      "111010691\n",
      "111010154\n",
      "111010639\n",
      "111010940\n",
      "111010265\n",
      "111010089\n",
      "111010050\n",
      "111010462\n",
      "111010492\n",
      "111010196\n",
      "111010552\n",
      "111010503\n",
      "111010540\n",
      "111010001\n",
      "111010468\n"
     ]
    }
   ],
   "source": [
    "jumlah = []\n",
    "\n",
    "for i in range(1,len(lst)):\n",
    "    if lst[i][3] > 54.05263157894737:\n",
    "        jumlah.append(str(lst[i][0]))\n",
    "   \n",
    "print('Nilai Rata-Rata QuiZ 1 Adalah 54.05263157894737')\n",
    "print('NIM yang mendapatkan nilai quiz 1 di atas rata-rata adalah: ')\n",
    "for i in range(len(jumlah)):\n",
    "    print(jumlah[i])"
   ]
  },
  {
   "cell_type": "markdown",
   "id": "755ca996",
   "metadata": {},
   "source": [
    "Mencari NIM dengan nilai quiz 2 di bawah median\n",
    "-------------"
   ]
  },
  {
   "cell_type": "code",
   "execution_count": 16,
   "id": "a90701bc",
   "metadata": {},
   "outputs": [
    {
     "name": "stdout",
     "output_type": "stream",
     "text": [
      "Nilai Median Quiz 2 Adalah 61\n",
      "NIM yang mendapatkan nilai quiz 2 di bawah median adalah : \n",
      "111010738\n",
      "111010130\n",
      "111010311\n",
      "111010398\n",
      "111010951\n",
      "111010108\n",
      "111010721\n",
      "111010691\n",
      "111010910\n",
      "111010994\n",
      "111010860\n",
      "111010630\n",
      "111010940\n",
      "111010676\n",
      "111010089\n",
      "111010050\n",
      "111010462\n",
      "111010883\n",
      "111010196\n",
      "111010552\n",
      "111010540\n",
      "111010001\n",
      "111010870\n",
      "111010468\n"
     ]
    }
   ],
   "source": [
    "jumlah = []\n",
    "\n",
    "for i in range(1,len(lst)):\n",
    "    if lst[i][4] < 61:\n",
    "        jumlah.append(str(lst[i][0]))\n",
    "   \n",
    "print('Nilai Median Quiz 2 Adalah 61')\n",
    "print(\"NIM yang mendapatkan nilai quiz 2 di bawah median adalah : \")\n",
    "for i in range(len(jumlah)):\n",
    "    print(jumlah[i])"
   ]
  },
  {
   "cell_type": "markdown",
   "id": "63a1173b",
   "metadata": {},
   "source": [
    "Mencari NIM dengan nilai tugas 1 di bawah median\n",
    "-----------------"
   ]
  },
  {
   "cell_type": "code",
   "execution_count": 17,
   "id": "8c40dc29",
   "metadata": {},
   "outputs": [
    {
     "name": "stdout",
     "output_type": "stream",
     "text": [
      "Nilai Median Tugas 1 adalah 50\n",
      "NIM yang mendapatkan nilai tugas 1 di bawah median adalah :\n",
      "111010072\n",
      "111010311\n",
      "111010398\n",
      "111010108\n",
      "111010261\n",
      "111010630\n",
      "111010883\n",
      "111010552\n",
      "111010199\n"
     ]
    }
   ],
   "source": [
    "jumlah = []\n",
    "\n",
    "for i in range(1,len(lst)):\n",
    "    if lst[i][1] < 50:\n",
    "        jumlah.append(str(lst[i][0]))\n",
    "   \n",
    "print('Nilai Median Tugas 1 adalah 50')\n",
    "print('NIM yang mendapatkan nilai tugas 1 di bawah median adalah :')\n",
    "for i in range(len(jumlah)):\n",
    "    print(jumlah[i])"
   ]
  },
  {
   "cell_type": "markdown",
   "id": "9c6b0811",
   "metadata": {},
   "source": [
    "Mencari NIM dengan nilai tugas 2 di atas rata-rata\n",
    "------------"
   ]
  },
  {
   "cell_type": "code",
   "execution_count": 18,
   "id": "4cbfcf79",
   "metadata": {},
   "outputs": [
    {
     "name": "stdout",
     "output_type": "stream",
     "text": [
      "Nilai Rata-Rata Tugas 2 adalah 48.18421052631579\n",
      "NIM yang mendapatkan nilai tugas 2 di atas rata-rata adalah: \n",
      "111010130\n",
      "111010072\n",
      "111010398\n",
      "111010951\n",
      "111010944\n",
      "111010456\n",
      "111010721\n",
      "111010691\n",
      "111010910\n",
      "111010994\n",
      "111010103\n",
      "111010077\n",
      "111010209\n",
      "111010639\n",
      "111010265\n",
      "111010462\n",
      "111010196\n",
      "111010503\n",
      "111010199\n",
      "111010468\n"
     ]
    }
   ],
   "source": [
    "jumlah = []\n",
    "\n",
    "for i in range(1,len(lst)):\n",
    "    if lst[i][2] > 48.18421052631579:\n",
    "        jumlah.append(str(lst[i][0]))\n",
    "   \n",
    "print('Nilai Rata-Rata Tugas 2 adalah 48.18421052631579')\n",
    "print('NIM yang mendapatkan nilai tugas 2 di atas rata-rata adalah: ')\n",
    "for i in range(len(jumlah)):\n",
    "    print(jumlah[i])"
   ]
  },
  {
   "cell_type": "code",
   "execution_count": null,
   "id": "95594187",
   "metadata": {},
   "outputs": [],
   "source": []
  },
  {
   "cell_type": "code",
   "execution_count": null,
   "id": "fd8b1e8d",
   "metadata": {},
   "outputs": [],
   "source": []
  },
  {
   "cell_type": "markdown",
   "id": "f783cfbb",
   "metadata": {},
   "source": [
    "Mencari NIM dengan nilai Uas/nilai akhir di bawah rata-rata\n",
    "--------------"
   ]
  },
  {
   "cell_type": "code",
   "execution_count": 19,
   "id": "1f6216fa",
   "metadata": {},
   "outputs": [
    {
     "name": "stdout",
     "output_type": "stream",
     "text": [
      "Nilai Mean UAS/Nilai Akhir adalah 42.421052631578945\n",
      "NIM yang mendapatkan nilai UAS/Nilai Akhir di bawah rata-rata adalah: \n",
      "111010130\n",
      "111010072\n",
      "111010951\n",
      "111010631\n",
      "111010721\n",
      "111010910\n",
      "111010994\n",
      "111010261\n",
      "111010103\n",
      "111010154\n",
      "111010209\n",
      "111010940\n",
      "111010676\n",
      "111010089\n",
      "111010050\n",
      "111010503\n",
      "111010540\n",
      "111010468\n"
     ]
    }
   ],
   "source": [
    "jumlah = []\n",
    "\n",
    "for i in range(1,len(lst)):\n",
    "    if lst[i][6] < 42.421052631578945:\n",
    "        jumlah.append(str(lst[i][0]))\n",
    "   \n",
    "print('Nilai Mean UAS/Nilai Akhir adalah 42.421052631578945')\n",
    "print('NIM yang mendapatkan nilai UAS/Nilai Akhir di bawah rata-rata adalah: ')\n",
    "for i in range(len(jumlah)):\n",
    "    print(jumlah[i])"
   ]
  },
  {
   "cell_type": "code",
   "execution_count": null,
   "id": "47531c4c",
   "metadata": {},
   "outputs": [],
   "source": []
  }
 ],
 "metadata": {
  "kernelspec": {
   "display_name": "Python 3",
   "language": "python",
   "name": "python3"
  },
  "language_info": {
   "codemirror_mode": {
    "name": "ipython",
    "version": 3
   },
   "file_extension": ".py",
   "mimetype": "text/x-python",
   "name": "python",
   "nbconvert_exporter": "python",
   "pygments_lexer": "ipython3",
   "version": "3.8.8"
  }
 },
 "nbformat": 4,
 "nbformat_minor": 5
}
